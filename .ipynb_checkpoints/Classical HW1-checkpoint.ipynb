{
 "cells": [
  {
   "cell_type": "code",
   "execution_count": 11,
   "metadata": {},
   "outputs": [],
   "source": [
    "import numpy as np"
   ]
  },
  {
   "cell_type": "code",
   "execution_count": 2,
   "metadata": {},
   "outputs": [],
   "source": [
    "from scipy.integrate import odeint"
   ]
  },
  {
   "cell_type": "code",
   "execution_count": 3,
   "metadata": {},
   "outputs": [],
   "source": [
    "import matplotlib.pyplot as plt"
   ]
  },
  {
   "cell_type": "code",
   "execution_count": 4,
   "metadata": {},
   "outputs": [],
   "source": [
    "#defining the parameters and functions we will be using in odeint() \n",
    "\n",
    "#Read https://physics.nyu.edu/pine/pymanual/html/chap9/chap9_scipy.html for more info\n",
    "\n",
    "def f(y, t, params):\n",
    "    theta, omega = y #the two values we are differentiating\n",
    "    mu, g = params #set parameters in the equations\n",
    "    derivs = [omega, mu*g*np.sin(theta) - mu*(omega**2) - g*np.cos(theta)]\n",
    "    #this is both the FOE equations, dtheta/dt = w (first term), and dw/dt = the second term\n",
    "    \n",
    "    return derivs"
   ]
  },
  {
   "cell_type": "code",
   "execution_count": 88,
   "metadata": {},
   "outputs": [],
   "source": [
    "mu = 0.2 #sliding friction coeff\n",
    "g = 9.8 #gravity\n",
    "R = 1 #we will never use this since it's 1, but for ease of understanding and option to tinker, we leave it here\n",
    "#If you want to use R, change the FOEs in cell 4 to plug in R where necessary, and add as parameters"
   ]
  },
  {
   "cell_type": "code",
   "execution_count": 128,
   "metadata": {},
   "outputs": [],
   "source": [
    "theta0 = 1.35 #initial angle. We are using a little less than pi/2 due to the comp error of friction pushing in the opp.\n",
    "                #direction and causing the theta to increase rather than decrease (sliding to the left, not right)\n",
    "omega0 = 0.0 #initial angular momentum"
   ]
  },
  {
   "cell_type": "code",
   "execution_count": 129,
   "metadata": {},
   "outputs": [],
   "source": [
    "params = [mu, g] #to plug into f"
   ]
  },
  {
   "cell_type": "code",
   "execution_count": 130,
   "metadata": {},
   "outputs": [],
   "source": [
    "y0 = [theta0, omega0] #to plug into odeint"
   ]
  },
  {
   "cell_type": "code",
   "execution_count": 131,
   "metadata": {},
   "outputs": [],
   "source": [
    "tStop = 1.5 #time at which to stop, otherwise will be cyclical and show several rotations\n",
    "tStep = 0.00001 #time step delta t"
   ]
  },
  {
   "cell_type": "code",
   "execution_count": 132,
   "metadata": {},
   "outputs": [],
   "source": [
    "t = np.arange(0., tStop, tStep) #create array of t's starting from 0 till tStop, incrementing tStep each time"
   ]
  },
  {
   "cell_type": "code",
   "execution_count": 133,
   "metadata": {},
   "outputs": [],
   "source": [
    "psoln = odeint(f, y0, t, args=(params,)) #solve the ODE"
   ]
  },
  {
   "cell_type": "code",
   "execution_count": 135,
   "metadata": {},
   "outputs": [
    {
     "data": {
      "image/png": "[encoded data removed]",
      "text/plain": [
       "<Figure size 576x576 with 2 Axes>"
      ]
     },
     "execution_count": 135,
     "metadata": {},
     "output_type": "execute_result"
    }
   ],
   "source": [
    "fig = plt.figure(1, figsize=(8,8))\n",
    "ax1 = fig.add_subplot(311)\n",
    "ax1.plot(t, psoln[:,0])\n",
    "ax1.set_xlabel('time')\n",
    "ax1.set_ylabel('theta')\n",
    "#plot theta vs. time\n",
    "\n",
    "ax2 = fig.add_subplot(312)\n",
    "ax2.plot(t, psoln[:,1])\n",
    "ax2.set_xlabel('time')\n",
    "ax2.set_ylabel('omega')\n",
    "#plot omega vs. time\n",
    "fig\n",
    "#does everything look right?"
   ]
  },
  {
   "cell_type": "code",
   "execution_count": 137,
   "metadata": {},
   "outputs": [],
   "source": [
    "thetaList = psoln[:,0]\n",
    "omegaList = psoln[:,1]\n",
    "#Create separate lists out of the thetas and omegas to iterate through without worrying about destroying info"
   ]
  },
  {
   "cell_type": "code",
   "execution_count": 138,
   "metadata": {},
   "outputs": [
    {
     "name": "stdout",
     "output_type": "stream",
     "text": [
      "0.6328827008178373\n",
      "0.6328586266198936\n",
      "0.6328345516317457\n",
      "0.6328104758533674\n"
     ]
    }
   ],
   "source": [
    "N = []\n",
    "#empty list to store N values\n",
    "for idx, each in enumerate(thetaList):\n",
    "    val = np.sin(each) - (omegaList[idx]**2)/g\n",
    "    #check which theta values are closest to N being 0\n",
    "    if val < 0.0001 and val >-0.0001:\n",
    "        print(each)\n",
    "    N.append(val)"
   ]
  },
  {
   "cell_type": "code",
   "execution_count": 119,
   "metadata": {
    "scrolled": true
   },
   "outputs": [
    {
     "data": {
      "text/plain": [
       "Text(0, 0.5, 'N')"
      ]
     },
     "execution_count": 119,
     "metadata": {},
     "output_type": "execute_result"
    },
    {
     "data": {
      "image/png": "[encoded data removed]",
      "text/plain": [
       "<Figure size 432x288 with 1 Axes>"
      ]
     },
     "metadata": {
      "needs_background": "light"
     },
     "output_type": "display_data"
    }
   ],
   "source": [
    "fig2 = plt.plot(thetaList, N)\n",
    "#limit N to just around 0\n",
    "plt.ylim([-0.01,0.01])\n",
    "#limit theta to just around the values listed in cell 138\n",
    "plt.xlim([0.5,0.7])\n",
    "plt.xlabel('theta')\n",
    "plt.ylabel('N')"
   ]
  },
  {
   "cell_type": "code",
   "execution_count": null,
   "metadata": {},
   "outputs": [],
   "source": [
    "#in this case our theta is 0.625 Radians, or 36.2 degrees."
   ]
  }
 ],
 "metadata": {
  "kernelspec": {
   "display_name": "Python 3",
   "language": "python",
   "name": "python3"
  },
  "language_info": {
   "codemirror_mode": {
    "name": "ipython",
    "version": 3
   },
   "file_extension": ".py",
   "mimetype": "text/x-python",
   "name": "python",
   "nbconvert_exporter": "python",
   "pygments_lexer": "ipython3",
   "version": "3.7.1"
  }
 },
 "nbformat": 4,
 "nbformat_minor": 2
}
